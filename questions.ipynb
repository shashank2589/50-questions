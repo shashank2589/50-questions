{
 "cells": [
  {
   "cell_type": "raw",
   "id": "60b6f0c4-87d7-464a-a919-fafe79fbb6eb",
   "metadata": {},
   "source": [
    "1. Print the first 5 positive integers in ascending order with one number \n",
    "in each line"
   ]
  },
  {
   "cell_type": "code",
   "execution_count": 1,
   "id": "ce0b9aa5",
   "metadata": {},
   "outputs": [
    {
     "name": "stdout",
     "output_type": "stream",
     "text": [
      "1\n",
      "2\n",
      "3\n",
      "4\n",
      "5\n"
     ]
    }
   ],
   "source": [
    "for i in range(1, 6):\n",
    "    print(i)"
   ]
  },
  {
   "cell_type": "raw",
   "id": "a723c70f-2393-4dcc-b34c-2e045588207b",
   "metadata": {},
   "source": [
    "2. Print the following pattern\n",
    "*\n",
    "**\n",
    "***\n",
    "****\n",
    "*****\n",
    "There are no spaces between consecutive stars. There are no spaces \n",
    "at the end of each line."
   ]
  },
  {
   "cell_type": "code",
   "execution_count": 13,
   "id": "2e5d9e53",
   "metadata": {},
   "outputs": [
    {
     "name": "stdout",
     "output_type": "stream",
     "text": [
      "*\n",
      "**\n",
      "***\n",
      "****\n",
      "*****\n"
     ]
    }
   ],
   "source": [
    "for i in range(1, 6):\n",
    "    print(\"*\" *i)"
   ]
  },
  {
   "cell_type": "raw",
   "id": "d9263791-a394-44ee-8ba9-4fb01759b6ac",
   "metadata": {},
   "source": [
    "3. Accept an integer as input and print its square as output."
   ]
  },
  {
   "cell_type": "code",
   "execution_count": 64,
   "id": "b92801f5",
   "metadata": {},
   "outputs": [
    {
     "name": "stdout",
     "output_type": "stream",
     "text": [
      "Enter the Number : 36\n",
      "the square of number is : 1296\n"
     ]
    }
   ],
   "source": [
    "user_input = int(input(\"Enter the Number : \"))\n",
    "print(f\"the square of number is : {user_input**2}\")"
   ]
  },
  {
   "cell_type": "raw",
   "id": "49ca4411-ab36-4e57-8d62-3628156bc49b",
   "metadata": {},
   "source": [
    "4.Accept two integers as input and print their sum as output."
   ]
  },
  {
   "cell_type": "code",
   "execution_count": 20,
   "id": "6fd30bf3",
   "metadata": {},
   "outputs": [
    {
     "name": "stdout",
     "output_type": "stream",
     "text": [
      "Enter the Number : 25\n",
      "Enter the Number : 37\n",
      "62.0\n"
     ]
    }
   ],
   "source": [
    "a = float(input(\"Enter the Number : \"))\n",
    "b = float(input(\"Enter the Number : \"))\n",
    "print(a+b)"
   ]
  },
  {
   "cell_type": "raw",
   "id": "f303afc2-f3af-4d9d-a4d8-7c2da8f24e3c",
   "metadata": {},
   "source": [
    "5. Accept two words as input and print the two words after adding a space between them"
   ]
  },
  {
   "cell_type": "code",
   "execution_count": 65,
   "id": "4ac56c82",
   "metadata": {},
   "outputs": [
    {
     "name": "stdout",
     "output_type": "stream",
     "text": [
      "Enter the word : Shashank\n",
      "Enter the word : Suryavanshi\n",
      "Shashank Suryavanshi\n"
     ]
    }
   ],
   "source": [
    "a = input(\"Enter the word : \")\n",
    "b = input(\"Enter the word : \")\n",
    "print(a + \" \" + b)"
   ]
  },
  {
   "cell_type": "code",
   "execution_count": 66,
   "id": "09cd4e25",
   "metadata": {},
   "outputs": [
    {
     "name": "stdout",
     "output_type": "stream",
     "text": [
      "shashank\n",
      "suryavanshi\n",
      "shashank suryavanshi\n"
     ]
    }
   ],
   "source": [
    "# 2nd approach\n",
    "print(input(), input())"
   ]
  },
  {
   "cell_type": "raw",
   "id": "1fdd53ab-a380-4caa-bdec-2876024a044d",
   "metadata": {},
   "source": [
    "6. Accept the registration number of a vehicle as input and print its state-code as output."
   ]
  },
  {
   "cell_type": "code",
   "execution_count": 1,
   "id": "0e95d032",
   "metadata": {},
   "outputs": [
    {
     "name": "stdout",
     "output_type": "stream",
     "text": [
      "Enter your registration number of a vehicle : MH31-XX-0214\n",
      "your state code is: MH\n"
     ]
    }
   ],
   "source": [
    "a = input(\"Enter your registration number of a vehicle : \")\n",
    "print(f\"your state code is: {a[0:2]}\")"
   ]
  },
  {
   "cell_type": "raw",
   "id": "4cca59ac",
   "metadata": {},
   "source": [
    "# 7.Accept a five-digit number as input and print the sum of its digits as output."
   ]
  },
  {
   "cell_type": "code",
   "execution_count": 11,
   "id": "a5917094",
   "metadata": {},
   "outputs": [
    {
     "name": "stdout",
     "output_type": "stream",
     "text": [
      "Enter the Five Digit Number : 25478\n",
      "The sum of its digit is: 26\n"
     ]
    }
   ],
   "source": [
    "user_input = input(\"Enter the Five Digit Number : \")\n",
    "\n",
    "sum1 = 0\n",
    "if len(user_input) == 5:\n",
    "    for i in user_input:\n",
    "        sum1 = sum1 + int(i)\n",
    "else:\n",
    "    print(\"Incorrect input\")\n",
    "\n",
    "print(f\"The sum of its digit is: {sum1}\")\n",
    "    "
   ]
  },
  {
   "cell_type": "raw",
   "id": "47ef2a83-4d51-4340-8770-9490474f43a9",
   "metadata": {},
   "source": [
    "8.Accept five words as input and print the sentence formed by these words after adding a space between consecutive words and a full stop at the end."
   ]
  },
  {
   "cell_type": "code",
   "execution_count": 25,
   "id": "5fce6823",
   "metadata": {},
   "outputs": [
    {
     "name": "stdout",
     "output_type": "stream",
     "text": [
      "I\n",
      "write\n",
      "code\n",
      "in\n",
      "python\n",
      "I write code in python.\n"
     ]
    }
   ],
   "source": [
    "w1 = input()\n",
    "w2 = input()\n",
    "w3 = input()\n",
    "w4 = input()\n",
    "w5 = input()\n",
    "sentence = w1+ \" \" + w2 + \" \" + w3 + \" \"+ w4 + \" \"+ w5 + \".\"\n",
    "print(sentence)"
   ]
  },
  {
   "cell_type": "raw",
   "id": "7b0fb9d7-98dc-4ab9-9548-c12f49f787a0",
   "metadata": {},
   "source": [
    "9.Accept the date in DD-MM-YYYY format as input and print the year as output."
   ]
  },
  {
   "cell_type": "code",
   "execution_count": 55,
   "id": "a4f7ef31",
   "metadata": {},
   "outputs": [
    {
     "name": "stdout",
     "output_type": "stream",
     "text": [
      "Enter the date in DD-MM-YYYY format : 22-11-2022\n",
      "The year is : 2022\n"
     ]
    }
   ],
   "source": [
    "user_input = input(\"Enter the date in DD-MM-YYYY format : \")\n",
    "print(f\"The year is : {user_input[6:]}\")"
   ]
  },
  {
   "cell_type": "raw",
   "id": "521abc20-5c4a-4fda-a3d7-45c626ad4d1c",
   "metadata": {},
   "source": [
    "10.Accept a sequence of five single digit numbers separated by commas as input. Print the product of all five numbers."
   ]
  },
  {
   "cell_type": "code",
   "execution_count": 2,
   "id": "ec82d7c7",
   "metadata": {},
   "outputs": [
    {
     "name": "stdout",
     "output_type": "stream",
     "text": [
      "The product of all five numbers is: 120\n"
     ]
    }
   ],
   "source": [
    "user_input = [1,2,3,4,5]\n",
    "\n",
    "mul = 1\n",
    "for i in user_input:\n",
    "        mul = mul * int(i)\n",
    "print(f\"The product of all five numbers is: {mul}\")"
   ]
  },
  {
   "cell_type": "code",
   "execution_count": 8,
   "id": "02951a9a",
   "metadata": {},
   "outputs": [
    {
     "name": "stdout",
     "output_type": "stream",
     "text": [
      "Enter the Number : 1,2,3,4,5\n",
      "The product of all five numbers is: 120\n"
     ]
    }
   ],
   "source": [
    "#2nd approach\n",
    "user_input = input(\"Enter the Number : \")\n",
    "\n",
    "n1 = int(user_input[0])\n",
    "n2 = int(user_input[2])\n",
    "n3 = int(user_input[4])\n",
    "n4 = int(user_input[6])\n",
    "n5 = int(user_input[8])\n",
    "\n",
    "mul = n1*n2*n3*n4*n5\n",
    "print(f\"The product of all five numbers is: {mul}\")"
   ]
  },
  {
   "cell_type": "raw",
   "id": "482e853e-2564-4eaf-a46b-0f31d3369f58",
   "metadata": {},
   "source": [
    "11. Accept two positive integers x and y as input. Print the number of digits in xy (x to the power y)"
   ]
  },
  {
   "cell_type": "code",
   "execution_count": 164,
   "id": "00178a56",
   "metadata": {},
   "outputs": [
    {
     "name": "stdout",
     "output_type": "stream",
     "text": [
      "Enter the Number : 16\n",
      "Enter the Number : 2\n",
      "The value of xy is : 256\n",
      "The number of digits in xy is:3\n"
     ]
    }
   ],
   "source": [
    "x = int(input(\"Enter the Number : \"))\n",
    "y = int(input(\"Enter the Number : \"))\n",
    "\n",
    "xy = x**y\n",
    "print(f\"The value of xy is : {xy}\")\n",
    "print(f\"The number of digits in xy is:{len(str(xy))}\")"
   ]
  },
  {
   "cell_type": "raw",
   "id": "af890b67-6c1f-412c-bbbe-8fc1358e0a91",
   "metadata": {},
   "source": [
    "12. Accept a string as input. If the input string is of odd length, then continue with it. If the input string is of even length, make the string of odd length as below:\n",
    "\n",
    "• If the last character is a period (.), then remove it \n",
    "• If the last character is not a period, then add a period (.) to the end of the string\n",
    "\n",
    "Call this string of odd length word. Select a substring made up of three consecutive characters from word such that there are an equal number of characters to the left and right of this substring. \n",
    "\n",
    "Print this substring as output. You can assume that all input strings will be in lower case and will have a length of at least four"
   ]
  },
  {
   "cell_type": "code",
   "execution_count": 194,
   "id": "aaa6d762",
   "metadata": {},
   "outputs": [
    {
     "name": "stdout",
     "output_type": "stream",
     "text": [
      "Enter the String : mumbai\n",
      "Odd length word is mumbai.\n",
      "substring :  mba\n"
     ]
    }
   ],
   "source": [
    "user_input = input(\"Enter the String : \")\n",
    "\n",
    "if len(user_input)%2 == 0 and user_input.endswith('.') == True:\n",
    "    a = user_input.removesuffix('.')\n",
    "    print(f\"Odd length word is {a}\")\n",
    "    n = int(len(a)/2)\n",
    "    print(\"substring : \", user_input[n-1:n+2])\n",
    "elif len(user_input)%2 != 0:\n",
    "    n = int(len(user_input)/2)\n",
    "    print(f\"Odd length word is {user_input}\")\n",
    "    print(\"substring : \", user_input[n-1:n+2])\n",
    "else:\n",
    "    n = int(len(user_input)/2)\n",
    "    print(f\"Odd length word is {user_input+'.'}\")\n",
    "    print(\"substring : \", user_input[n-1:n+2])\n",
    "    "
   ]
  },
  {
   "cell_type": "raw",
   "id": "7188ddf7-aeae-43c7-add9-8a31e08a2bc9",
   "metadata": {},
   "source": [
    "13. Accept three positive integers as input and check if they form the sides of a right triangle. Print YES if they form one, and NO is they do not. \n",
    "\n",
    "The input will have three lines, with one integer on each line. \n",
    "\n",
    "The output should be a single line containing one of these two strings: YES or NO."
   ]
  },
  {
   "cell_type": "code",
   "execution_count": 7,
   "id": "9ecb93f3",
   "metadata": {},
   "outputs": [
    {
     "name": "stdout",
     "output_type": "stream",
     "text": [
      "Enter the side of traingle in cm : 12\n",
      "Enter the side of traingle in cm : 13\n",
      "Enter the side of traingle in cm : 5\n",
      "YES its right angle traingle\n"
     ]
    }
   ],
   "source": [
    "x = int(input(\"Enter the side of traingle in cm : \"))\n",
    "y = int(input(\"Enter the side of traingle in cm : \"))\n",
    "z = int(input(\"Enter the side of traingle in cm : \"))\n",
    "\n",
    "if x**2 + y**2 == z**2:\n",
    "    print(\"YES its right angle traingle\")\n",
    "elif x**2 + z**2 == y**2:\n",
    "    print(\"YES its right angle traingle\")\n",
    "elif y**2 + z**2 == x**2:\n",
    "    print(\"YES its right angle traingle\")\n",
    "else:\n",
    "    print(\"NO its not a right angle traingle\")"
   ]
  },
  {
   "cell_type": "raw",
   "id": "5e16b40c-a122-4dbc-a681-bca1fe32a1dc",
   "metadata": {},
   "source": [
    "14. EvenOdd is a tech startup. Each employee at the startup is given an employee id which is a unique positive integer. On one warm Sunday evening, five employees of the company come together for a meeting and sit at a circular table:\n",
    "\n",
    "The employees follow a strange convention. They will continue the meeting only if the following condition is satisfied.\n",
    "The sum of the employee-ids of every pair of adjacent employees at the table must be an even number.\n",
    "\n",
    "They are so lazy that they won’t move around to satisfy the above condition, If the current seating plan doesn’t satisfy the condition, the meeting will be cancelled. You are given the employee-id of all five employees. Your task is to decide if the meeting happened or not.\n",
    "\n",
    "The input will be five lined, each containing an integer. The ith line will have the employee-id of Ei. \n",
    "The output will be a single line containing one of these two strings: YES or NO"
   ]
  },
  {
   "cell_type": "code",
   "execution_count": 196,
   "id": "b9cdb17f",
   "metadata": {},
   "outputs": [
    {
     "name": "stdout",
     "output_type": "stream",
     "text": [
      "Enter the employee id of E1 : 2\n",
      "Enter the employee id of E2 : 6\n",
      "Enter the employee id of E3 : 4\n",
      "Enter the employee id of E4 : 5\n",
      "Enter the employee id of E5 : 6\n",
      "meeting cancelled\n"
     ]
    }
   ],
   "source": [
    "E1 = int(input(\"Enter the employee id of E1 : \"))\n",
    "E2 = int(input(\"Enter the employee id of E2 : \"))\n",
    "E3 = int(input(\"Enter the employee id of E3 : \"))\n",
    "E4 = int(input(\"Enter the employee id of E4 : \"))\n",
    "E5 = int(input(\"Enter the employee id of E5 : \"))\n",
    "\n",
    "if (E1+E2)%2 == 0 and (E3+E4)%2 ==0 and (E1+E5)%2 == 0 and (E2+E3)%2 == 0 and (E4+E5)%2 == 0:\n",
    "    print(\"YES meeting happened\") \n",
    "else:\n",
    "    print(\"meeting cancelled\")"
   ]
  },
  {
   "cell_type": "raw",
   "id": "1d651eb9-add5-4f2b-9a92-57303f327be3",
   "metadata": {},
   "source": [
    "15. Accept a string as input and print the vowels present in the string in alphabetical order. If the string doesn’t contain any vowels, then print the string none as output. Each vowel that appears in the input string – irrespective of its case should appear just once in lower case in the output"
   ]
  },
  {
   "cell_type": "code",
   "execution_count": 37,
   "id": "f8b5740f",
   "metadata": {},
   "outputs": [
    {
     "name": "stdout",
     "output_type": "stream",
     "text": [
      "Enter any string : AuDIo\n",
      "Vowels presents in the string in alphabetical order : aiou\n"
     ]
    }
   ],
   "source": [
    "string = input(\"Enter any string : \").lower()\n",
    "vowel = \"aeiou\"\n",
    "l = []\n",
    "\n",
    "for i in string:\n",
    "    if i in vowel:\n",
    "        l.append(i)\n",
    "        \"\".join(sorted(set(l)))\n",
    "        \n",
    "    else:\n",
    "        None\n",
    "\n",
    "print(\"Vowels presents in the string in alphabetical order :\",\"\".join(sorted(set(l))))      \n",
    " \n",
    " "
   ]
  },
  {
   "cell_type": "raw",
   "id": "f7e76b4b-b3f7-4766-a82b-5e63a879b380",
   "metadata": {},
   "source": [
    "16.You are given the date of birth of two persons, not necessarily from the same family. Your task is to find the younger of the two. If both of them share the same date of birth, then the younger of the two is assumed to be that person whose name comes first in alphabetical order.\n",
    "\n",
    "The input will have four lines. The first two lines correspond to the first person, while the last two lines correspond to the second person. For each person, the first line corresponds to the name and the second line corresponds to the date of birth in “DD-MM-YYYY” format. Your output should be the name of the younger of the two."
   ]
  },
  {
   "cell_type": "code",
   "execution_count": 21,
   "id": "7da1c06f",
   "metadata": {},
   "outputs": [
    {
     "name": "stdout",
     "output_type": "stream",
     "text": [
      "Enter the name of 1st person : jai\n",
      "Enter the DOB in DD-MM-YYYY format of 1st person : 13-04-1956\n",
      "Enter the name of 2nd person : veeru\n",
      "Enter the DOB in DD-MM-YYYY format of 2nd person : 12-06-1952\n",
      "The younger of the two is jai\n"
     ]
    }
   ],
   "source": [
    "name1 = input(\"Enter the name of 1st person : \")\n",
    "DOB_name1 = input(\"Enter the DOB in DD-MM-YYYY format of 1st person : \")\n",
    "name2 = input(\"Enter the name of 2nd person : \")\n",
    "DOB_name2 = input(\"Enter the DOB in DD-MM-YYYY format of 2nd person : \")\n",
    "\n",
    "if DOB_name1 == DOB_name2:\n",
    "    if name1 < name2:\n",
    "        print(f\"The younger of the two is {name1}\")\n",
    "    else:\n",
    "        print(f\"The younger of the two is {name2}\")\n",
    "\n",
    "elif DOB_name1[6:] != DOB_name2[6:]:\n",
    "    if DOB_name1[6:] > DOB_name2[6:]:\n",
    "        print(f\"The younger of the two is {name1}\")\n",
    "    else:\n",
    "        print(f\"The younger of the two is {name2}\")\n",
    "elif DOB_name1[3:5] != DOB_name2[3:5]:\n",
    "    if DOB_name1[3:5] > DOB_name2[3:5]:\n",
    "        print(f\"The younger of the two is {name1}\")\n",
    "    else:\n",
    "        print(f\"The younger of the two is {name2}\")\n",
    "else:\n",
    "    if DOB_name1[0:2] > DOB_name2[0:2]:\n",
    "        print(f\"The younger of the two is {name1}\")\n",
    "    else:\n",
    "        print(f\"The younger of the two is {name2}\")"
   ]
  },
  {
   "cell_type": "raw",
   "id": "6ee8f8bd-15aa-40d8-9cef-2f7e22f6cf5d",
   "metadata": {},
   "source": [
    "17.Accept a string as input. Your task is to determine if the input string is a valid password or not. For a string to be a valid password, it must satisfy all the conditions given below:\n",
    "(1) It should have at least 8 and at most 32 characters\n",
    "(2) It should start with an uppercase or lowercase letter\n",
    "(3) It should not have any of these characters: / \\ = ' \"\n",
    "(4) It should not have spaces\n",
    "It could have any character that is not mentioned in the list of characters to be avoided (points 3 and 4). Output True if the string forms a valid password and False otherwise"
   ]
  },
  {
   "cell_type": "code",
   "execution_count": 30,
   "id": "69a435e0",
   "metadata": {},
   "outputs": [
    {
     "name": "stdout",
     "output_type": "stream",
     "text": [
      "Enter the password : Xcvg676$##$^%*!@14KKpo\n",
      "22\n",
      "Valid Password\n"
     ]
    }
   ],
   "source": [
    "password = input(\"Enter the password : \")\n",
    "print(len(password))\n",
    "if 8 <= len(password) <=32 and password[0].isalpha() and \"/\" not in password and  \"\\\\\" not in password and '=' not in password and \"'\" not in password and '\"' not in password and \" \" not in password:\n",
    "    print(\"Valid Password\")\n",
    "else:\n",
    "    print(\"Invalid Password\")"
   ]
  },
  {
   "cell_type": "raw",
   "id": "a4d2f09c-6787-477e-8ed5-4ed4257469cb",
   "metadata": {},
   "source": [
    "18. Accept a positive integer n as input and print the first n positive integers, one number on each line."
   ]
  },
  {
   "cell_type": "code",
   "execution_count": 7,
   "id": "151681bd",
   "metadata": {},
   "outputs": [
    {
     "name": "stdout",
     "output_type": "stream",
     "text": [
      "Enter the input : 23687\n",
      "2\n",
      "3\n",
      "6\n",
      "8\n",
      "7\n"
     ]
    }
   ],
   "source": [
    "n = input(\"Enter the input : \")\n",
    "\n",
    "for i in n:\n",
    "    print(i)"
   ]
  },
  {
   "cell_type": "raw",
   "id": "0527265b-0110-476d-8bf6-6a724749197e",
   "metadata": {},
   "source": [
    "19.Accept a positive integer n as input, where n is greater than 1. \n",
    "Print PRIME if n is a prime number and NOT PRIME otherwise."
   ]
  },
  {
   "cell_type": "code",
   "execution_count": 32,
   "id": "dd3f5e06",
   "metadata": {},
   "outputs": [
    {
     "name": "stdout",
     "output_type": "stream",
     "text": [
      "Enter the input : 6\n",
      "6 is Not prime number\n",
      "2 times 3 is 6\n"
     ]
    }
   ],
   "source": [
    "n = int(input(\"Enter the input : \"))\n",
    "\n",
    "if n > 1 :\n",
    "    for i in range(2, n): \n",
    "        if (n%i) == 0:\n",
    "            print(f\"{n} is Not prime number\")\n",
    "            print(f\"{i} times {n//i} is {n}\")\n",
    "            break\n",
    "    else:\n",
    "        print(f\"{n} is prime number\")\n",
    "else:\n",
    "    print(f\"{n} is Not prime number\")"
   ]
  },
  {
   "cell_type": "raw",
   "id": "8d8297d3-a658-4afd-9b7f-b2ee198faa52",
   "metadata": {},
   "source": [
    "20. Accept two strings as input and form a new string by removing all characters from the second string which are present in the first string. Print this new string as output. You can assume that all input strings will be in lower case."
   ]
  },
  {
   "cell_type": "code",
   "execution_count": 22,
   "id": "34fbb5d1",
   "metadata": {},
   "outputs": [
    {
     "name": "stdout",
     "output_type": "stream",
     "text": [
      "Enter any string-1 : sunny\n",
      "Enter any string-2 : shashank\n",
      "New string is : hahak\n"
     ]
    }
   ],
   "source": [
    "s1 = input(\"Enter any string-1 : \")\n",
    "s2 = input(\"Enter any string-2 : \")\n",
    "l = []\n",
    "\n",
    "for i in s2:\n",
    "    if i in s1:\n",
    "        None \n",
    "    else:\n",
    "        l.append(i)\n",
    "        \"\".join(l)\n",
    "        \n",
    "        \n",
    "print(\"New string is :\", \"\".join(l))"
   ]
  },
  {
   "cell_type": "code",
   "execution_count": 38,
   "id": "9e55e110",
   "metadata": {},
   "outputs": [
    {
     "name": "stdout",
     "output_type": "stream",
     "text": [
      "Enter any string-1 : sunny\n",
      "Enter any string-2 : shashank\n",
      "New string is : hahak\n"
     ]
    }
   ],
   "source": [
    "#2nd approach\n",
    "s1 = input(\"Enter any string-1 : \")\n",
    "s2 = input(\"Enter any string-2 : \")\n",
    "for i in s1:\n",
    "    if i in s2:\n",
    "        s2 = s2.replace(i,'')\n",
    "print(\"New string is :\" ,s2)"
   ]
  },
  {
   "cell_type": "raw",
   "id": "9d4ca698-02c3-415a-8b99-7b59c5702d8d",
   "metadata": {},
   "source": [
    "21.Accept a phone number as input. A valid phone number should satisfy the following constraints.\n",
    "\n",
    "(1) The number should start with one of these digits: 6, 7, 8, 9\n",
    "(2) The number should be exactly 10 digits long.\n",
    "(3) No digit should appear more than 7 times in the number.\n",
    "(4) No digit should appear more than 5 times in a row in the number.\n",
    "\n",
    "If the fourth condition is not very clear, then consider this example: \n",
    "the number 9888888765 is invalid because the digit 8 appears more than 5 times in a row. Print the string valid if the phone number is valid. If not, print the string invalid."
   ]
  },
  {
   "cell_type": "code",
   "execution_count": 160,
   "id": "67c74e94",
   "metadata": {},
   "outputs": [
    {
     "name": "stdout",
     "output_type": "stream",
     "text": [
      "Enter your mobile number : 9800000989\n",
      "phone number is valid\n"
     ]
    }
   ],
   "source": [
    "mobile_no = input(\"Enter your mobile number : \")\n",
    "n = False\n",
    "\n",
    "if len(mobile_no) == 10 and int(mobile_no[0]) > 5 and mobile_no.isdigit():\n",
    "    n = True\n",
    "    for i in range(10):\n",
    "        if mobile_no.count(mobile_no[i]) >= 8:\n",
    "            n = False\n",
    "            break\n",
    "        if str(mobile_no[i] * 6) in mobile_no:\n",
    "            n = False\n",
    "            break\n",
    "            \n",
    "if n:\n",
    "    print(\"phone number is valid\")\n",
    "else:\n",
    "    print(\"Invalid phone number\")"
   ]
  },
  {
   "cell_type": "raw",
   "id": "781b0869-d8b7-4f2f-b4cd-16d0e128fd0f",
   "metadata": {},
   "source": [
    "22. In the first line of input, accept a sequence of space-separated words. In the second line of input, accept a single word. If this word is not present in the sequence, print NO. If this word is present in the sequence, then print YES and in the next line of the output, print the number of times the word appears in the sequence."
   ]
  },
  {
   "cell_type": "code",
   "execution_count": 249,
   "id": "ec6a0ff2",
   "metadata": {},
   "outputs": [
    {
     "name": "stdout",
     "output_type": "stream",
     "text": [
      "Enter sequence of space-separated words : Officials said of the 30 million Chinese aged 80 and above, 65% had completed the three doses of Chinese vaccines required to prevent hospitalisation and death, up from 40% last month. The push would continue to vaccinate the vulnerable, focusing for instance on nursing homes, and would now reduce the interval between doses from six months to three, the National Health Commission said, even as the country continues to deal with a COVID-19 wave of 40,000 daily cases\n",
      "Enter a single word: the\n",
      "YES this word is present in the sequence\n",
      "6 number of times the word appears in the sequence\n"
     ]
    }
   ],
   "source": [
    "sqn = input(\"Enter sequence of space-separated words : \")\n",
    "sw = input(\"Enter a single word: \")\n",
    "\n",
    "if sw in sqn: \n",
    "    print(\"YES this word is present in the sequence\") \n",
    "    print(f\"{sqn.count(sw)} number of times the word appears in the sequence\")  \n",
    "else:\n",
    "    print(\"NO this word is not present in the sequence\")\n",
    "    "
   ]
  },
  {
   "cell_type": "raw",
   "id": "ea752210-2e2a-428b-937c-31251daf7ba8",
   "metadata": {},
   "source": [
    "23. Write a function named factorial that accepts an integer n as argument. It should return the factorial of n if n is a positive integer. It should return -1 if n is a negative integer, and it should return 1 if n is zero."
   ]
  },
  {
   "cell_type": "code",
   "execution_count": 45,
   "id": "d9198105",
   "metadata": {},
   "outputs": [],
   "source": [
    "def factorial(n):\n",
    "    mul = 1\n",
    "    if n > 0:\n",
    "        for i in range(1, n+1):\n",
    "            mul = mul * i\n",
    "        return mul\n",
    "    \n",
    "    elif n < 0:\n",
    "        return -1\n",
    "    \n",
    "    elif n == 0:\n",
    "        return 1\n",
    "        "
   ]
  },
  {
   "cell_type": "code",
   "execution_count": 46,
   "id": "ac1650b2",
   "metadata": {},
   "outputs": [
    {
     "data": {
      "text/plain": [
       "5040"
      ]
     },
     "execution_count": 46,
     "metadata": {},
     "output_type": "execute_result"
    }
   ],
   "source": [
    "factorial(7)"
   ]
  },
  {
   "cell_type": "code",
   "execution_count": 234,
   "id": "7a7d77e9",
   "metadata": {},
   "outputs": [
    {
     "data": {
      "text/plain": [
       "1"
      ]
     },
     "execution_count": 234,
     "metadata": {},
     "output_type": "execute_result"
    }
   ],
   "source": [
    "factorial(0)"
   ]
  },
  {
   "cell_type": "code",
   "execution_count": 235,
   "id": "387b565a",
   "metadata": {},
   "outputs": [
    {
     "data": {
      "text/plain": [
       "-1"
      ]
     },
     "execution_count": 235,
     "metadata": {},
     "output_type": "execute_result"
    }
   ],
   "source": [
    "factorial(-6)"
   ]
  },
  {
   "cell_type": "raw",
   "id": "c757a0b6-8450-47af-9b1f-f6ce69ebc775",
   "metadata": {},
   "source": [
    "24. The range of a list of numbers is the difference between the maximum and minimum values in the list Write a function named get_range that accepts a non-empty list of real numbers as argument. It should return the range of the list.\n",
    "\n",
    "(1) Avoid using built-in function such as max and min.\n",
    "(2) You do not have to accept input from the user or print output to the console. You just have to write the function definition."
   ]
  },
  {
   "cell_type": "code",
   "execution_count": 1,
   "id": "eb4df13f",
   "metadata": {},
   "outputs": [
    {
     "data": {
      "text/plain": [
       "46"
      ]
     },
     "execution_count": 1,
     "metadata": {},
     "output_type": "execute_result"
    }
   ],
   "source": [
    "def get_range(n):\n",
    "    maximum = n[0]\n",
    "    minimum = n[0]\n",
    "    for i in n:\n",
    "        if i > maximum:\n",
    "            maximum = i\n",
    "        if i < minimum:\n",
    "            minimum = i\n",
    "    return maximum - minimum\n",
    "\n",
    "\n",
    "# for example:\n",
    "\n",
    "get_range([5,7,1,2,8,6,7,9,36,47,24,19])"
   ]
  },
  {
   "cell_type": "raw",
   "id": "8f3ba3db-9ed9-4c14-ac23-41f3225ad874",
   "metadata": {},
   "source": [
    "25. Write a function named read_file that accepts a text file named filename as argument. Within the function, read the file and print each line of the file on a separate line in the console. You shouldn't print any extra characters at the end of a line. There shouldn't be an empty line between any two consecutive lines.\n",
    "\n",
    "(1) filename is a string variable that holds the name of the file. For example, in the first test case, it is filename = 'public_1.txt'.\n",
    "\n",
    "(2) You do not have to accept input from the console. You have to write the function definition and print the contents of the file within the function"
   ]
  },
  {
   "cell_type": "code",
   "execution_count": 56,
   "id": "94e230bc",
   "metadata": {},
   "outputs": [],
   "source": [
    "def read_file(filename):\n",
    "    try:\n",
    "        with open(filename, 'r') as file:\n",
    "            for line in file:\n",
    "                print(line, end = '')\n",
    "    except FileNotFoundError:\n",
    "        print(\"file not found\")\n",
    "    except Exception as e:\n",
    "        print(f\"there is an error in file : {e}\")\n",
    "    "
   ]
  },
  {
   "cell_type": "code",
   "execution_count": 46,
   "id": "e5d9ac53",
   "metadata": {},
   "outputs": [],
   "source": [
    "#2nd approach\n",
    "\n",
    "def read_file(filename):\n",
    "    file =  open(filename, 'r')\n",
    "    for line in file:\n",
    "            print(line.strip())\n",
    "            \n",
    "    file.close()"
   ]
  },
  {
   "cell_type": "raw",
   "id": "b2d94805-f65b-47c2-9d18-2a8bdbe5c2dc",
   "metadata": {},
   "source": [
    "26. A simple algorithm has to be designed to find out whether a student belongs to the Data Science branch or not. The input will be a student's roll number, which is of the form BR18B0000. Here, BR represents the branch code, 18 represents the year of joining, B represents the education level and 0000 represents the specific identification given to the student of that batch. The branch code for Data Science is DS. Print True if the student belongs to Data Science branch and False otherwise."
   ]
  },
  {
   "cell_type": "code",
   "execution_count": 144,
   "id": "3bedcb73",
   "metadata": {},
   "outputs": [
    {
     "name": "stdout",
     "output_type": "stream",
     "text": [
      "enter your roll number in form BR18B0000 : DS22A3657\n",
      "the student belongs to Data Science branch\n"
     ]
    }
   ],
   "source": [
    "roll_number = input(\"enter your roll number in form BR18B0000 : \")\n",
    "\n",
    "if roll_number[0:2].isalpha() and roll_number[2:4].isdigit() and roll_number[4].isalpha() and roll_number[5:9].isdigit() and len(roll_number) == 9:\n",
    "    if roll_number[0:2] == 'DS':\n",
    "        print(\"the student belongs to Data Science branch\")\n",
    "    else:\n",
    "        print(\"the student does'nt belongs to Data Science branch\")\n",
    "else:\n",
    "    print(\"Invalid Roll Number\")"
   ]
  },
  {
   "cell_type": "raw",
   "id": "52e69e6b-ab1d-411c-8750-7a2de08bc8dd",
   "metadata": {},
   "source": [
    "27.The police are trying to track a criminal based on the evidence available at a crime site. Their main clue is a vehicle's damaged number plate. Only the string TN07 is visible. The format of the registration number is AA00AA00, where the first two letters are alphabets, next two are numbers, next two are again alphabets followed by two numbers at the end. A number plate is picked from a database of registration numbers and is given to you as input. Your task is to determine if this could belong to the criminal or not. \n",
    "\n",
    "Print True if the number plate contains TN07 and False otherwise."
   ]
  },
  {
   "cell_type": "code",
   "execution_count": 59,
   "id": "6cf753cc",
   "metadata": {},
   "outputs": [
    {
     "name": "stdout",
     "output_type": "stream",
     "text": [
      "enter your registration number in form AA00AA00 : TN07MK06\n",
      "this belong to the criminal\n"
     ]
    }
   ],
   "source": [
    "reg_number = input(\"enter your registration number in form AA00AA00 : \")\n",
    "\n",
    "if reg_number[0:2].isalpha() and reg_number[2:4].isdigit() and reg_number[4:6].isalpha() and reg_number[6:8].isdigit() and len(reg_number) == 8:\n",
    "    if reg_number[0:4] == 'TN07' or reg_number[4:8] == 'TN07':\n",
    "        print(\"this belong to the criminal\")\n",
    "    else:\n",
    "        print(\"this does not belong to criminal\")\n",
    "else:\n",
    "    print(\"Invalid Registration Number\")"
   ]
  },
  {
   "cell_type": "raw",
   "id": "11b4a079-30a1-480d-a759-2b54ab29f90f",
   "metadata": {},
   "source": [
    "28. You are given a string and two non-negative integers as input. The two integers specify the start and end indices of a substring in the given string. Create a new string by replicating the substring a minimum number of times so that the resulting string is longer than the input string. The input parameters are the string, start index of the substring and the end index of substring (endpoints inclusive) each on a different line."
   ]
  },
  {
   "cell_type": "code",
   "execution_count": 71,
   "id": "b9c7aa08",
   "metadata": {},
   "outputs": [
    {
     "name": "stdout",
     "output_type": "stream",
     "text": [
      "Enter a word : shashank\n",
      "Enter start index : 1\n",
      "Enter end index : 2\n",
      "hahahahaha\n"
     ]
    }
   ],
   "source": [
    "input_string = input(\"Enter a word : \")\n",
    "start = int(input(\"Enter start index : \"))\n",
    "end = int(input(\"Enter end index : \"))\n",
    "substring = input_string[start : end+1]\n",
    "\n",
    "new_string = ''\n",
    "\n",
    "while len(new_string) <= len(input_string):\n",
    "    new_string += substring\n",
    "print(new_string)\n"
   ]
  },
  {
   "cell_type": "raw",
   "id": "2c2d9d8e-e84a-4ca1-8791-8033b8e650a0",
   "metadata": {},
   "source": [
    "29. A class teacher has decided to split her entire class into four groups, namely Sapphire, Peridot, Ruby, and Emerald for sports competitions. For dividing the students into these four groups, she has followed the pattern given below:\n",
    "\n",
    "Sapphire - 1, 5, 9, 13, 17, 21, ...\n",
    "Peridot - 2, 6, 10, 14, 18, 22, ...\n",
    "Ruby - 3, 7, 11, 15, 19, 23, ...\n",
    "Emerald - 4, 8, 12, 16, 20, 24, ...\n",
    "\n",
    "All the students are represented by their roll numbers. Based on the above pattern, given the roll number as input, print the group the student belongs to. Note that the roll number can be any positive integer and not necessarily less than 25."
   ]
  },
  {
   "cell_type": "code",
   "execution_count": 110,
   "id": "b0f30137",
   "metadata": {},
   "outputs": [
    {
     "name": "stdout",
     "output_type": "stream",
     "text": [
      "Enter the roll number : 27\n",
      "the student belongs to Ruby \n"
     ]
    }
   ],
   "source": [
    "roll_no = int(input(\"Enter the roll number : \"))\n",
    "\n",
    "for s in range(1,roll_no+1,4):\n",
    "    if roll_no == s:\n",
    "        print(\"the student belongs to Sapphire \")\n",
    "for p in range(2,roll_no+1,4):\n",
    "    if roll_no == p:\n",
    "        print(\"the student belongs to Peridot \")\n",
    "for r in range(3,roll_no+1,4):\n",
    "    if roll_no == r:\n",
    "        print(\"the student belongs to Ruby \")\n",
    "for e in range(4,roll_no+1,4):\n",
    "    if roll_no == e:\n",
    "        print(\"the student belongs to Emerald \")\n",
    "    "
   ]
  },
  {
   "cell_type": "raw",
   "id": "7e18467c-5ccb-4820-bc5f-c4adc9babe2c",
   "metadata": {},
   "source": [
    "30. A data science company wants to hire data scientists from abc college. The company follows a certain criteria for selection: for a student to be selected, the number of backlogs should be at most 5 and the CGPA (Cumulative Grade Point Average) should be greater than 6. If the student does not fit the above criteria, then the student is not offered the job. If the student is selected, then the salary offered is equal to 5 times his/her CGPA (in lakhs). Accept the number of backlogs (integer) and the CGPA (float) of the student as input. Your task is to determine if the student is selected or \n",
    "not. If the student is selected, then print the package. If not, then print the string Not Selected."
   ]
  },
  {
   "cell_type": "code",
   "execution_count": 119,
   "id": "0048c884",
   "metadata": {},
   "outputs": [
    {
     "name": "stdout",
     "output_type": "stream",
     "text": [
      "Enter the number of backlogs : 3\n",
      "Enter the CGPA : 6.32\n",
      "Selected, your package is 3160000.0\n"
     ]
    }
   ],
   "source": [
    "backlogs = int(input(\"Enter the number of backlogs : \"))\n",
    "CGPA = float(input(\"Enter the CGPA : \"))\n",
    "\n",
    "if backlogs > 5 or CGPA <= 6:\n",
    "    print(\"you're not selected\")\n",
    "else:\n",
    "    print(f\"Selected, your package is {CGPA*500000}\")\n",
    "    "
   ]
  },
  {
   "cell_type": "raw",
   "id": "15b2b2b3-e511-4184-af23-c42d9ee021b8",
   "metadata": {},
   "source": [
    "31. Accept a string as input and print PALINDROME if it is a palindrome, and NOT PALINDROME otherwise"
   ]
  },
  {
   "cell_type": "code",
   "execution_count": 190,
   "id": "e0d7508a",
   "metadata": {},
   "outputs": [
    {
     "name": "stdout",
     "output_type": "stream",
     "text": [
      "Enter a string :LEVEL\n",
      "It's a PALINDROME\n"
     ]
    }
   ],
   "source": [
    "X = input(\"Enter a string :\")\n",
    "\n",
    "if X == X[::-1]:\n",
    "    print(\"It's a PALINDROME\")\n",
    "else:\n",
    "    print(\"It is NOT PALINDROME\")"
   ]
  },
  {
   "cell_type": "raw",
   "id": "92cfcd2b-ae26-4009-85b4-15e7996421ac",
   "metadata": {},
   "source": [
    "32. In a portal login website, you are asked to write a function get_password_strength to decide \n",
    "the strength of a password. The strength is decided based on the total score of the password, Use \n",
    "following conditions:\n",
    "1) If password has length greater than 7 then score increases by one point.\n",
    "2) If password has at least one upper case and one lower case alphabets score increases by one point.\n",
    "3) If password has at least one number and no consecutive numbers like 12 or 234 then score \n",
    "increases by one point.\n",
    "4) If password has at least one special character (any character other than numbers and alphabets) then \n",
    "score increases by one point.\n",
    "5) If password contains username, then it is invalid password.\n",
    "If the password has score of four points, three points, two points, or one point then print Very \n",
    "Strong, Strong, Moderate, or Weak respectively. If the password is invalid, then \n",
    "print PASSWORD SHOULD NOT CONTAIN USERNAME and If the score is zero, then print Use a \n",
    "different password.The arguments to the function are username and password which are \n",
    "already defined"
   ]
  },
  {
   "cell_type": "code",
   "execution_count": 470,
   "id": "0ef8a6bb",
   "metadata": {},
   "outputs": [
    {
     "name": "stdout",
     "output_type": "stream",
     "text": [
      "very strong\n"
     ]
    }
   ],
   "source": [
    "def get_password_strength(username,password):\n",
    "    score = 0\n",
    "    digit = False\n",
    "    uppercase = False\n",
    "    lowercase = False\n",
    "    special = False\n",
    "    consecutive = False\n",
    "    \n",
    "    if len(password) > 7:\n",
    "        score += 1\n",
    "        \n",
    "    for i in range(len(password)):\n",
    "        if password[i].isupper():\n",
    "            uppercase = True\n",
    "        elif password[i].islower():\n",
    "            lowercase = True\n",
    "        elif password[i].isdigit():\n",
    "            digit = True            \n",
    "            if i < len(password)-1 and password[i+1].isdigit():\n",
    "                consecutive = True\n",
    "                break\n",
    "    \n",
    "    for i in password:\n",
    "        if not i.isdigit() and not i.isalpha():\n",
    "            special = True\n",
    "            break\n",
    "    \n",
    "    if username in password:\n",
    "        return \"PASSWORD SHOULD NOT CONTAIN USERNAME\"\n",
    "    \n",
    "    if uppercase and lowercase:\n",
    "        score += 1\n",
    "    if digit and not consecutive:\n",
    "        score += 1\n",
    "    if special:\n",
    "        score += 1\n",
    "    \n",
    "    if score == 4:\n",
    "        print(\"very strong\")\n",
    "    elif score == 3: \n",
    "        print(\"Strong\")\n",
    "    elif score == 2:\n",
    "        print(\"Moderate\")\n",
    "    elif score ==1:\n",
    "        print(\"Weak\")\n",
    "    else:\n",
    "        \"Invalid Password\"\n",
    "    \n",
    "        \n",
    "get_password_strength(\"abc@gmail.com\", \"P@ssw0rd\")    \n",
    "    "
   ]
  },
  {
   "cell_type": "raw",
   "id": "67644faf-c8dc-439d-9c26-54b16751b2e0",
   "metadata": {},
   "source": [
    "33.decorator that logs the date and time"
   ]
  },
  {
   "cell_type": "code",
   "execution_count": 427,
   "id": "9a0926b8",
   "metadata": {},
   "outputs": [
    {
     "name": "stdout",
     "output_type": "stream",
     "text": [
      "time before execution : 04-02-2023 20:35:07\n",
      "Hello, world\n",
      "time after execution : 04-02-2023 20:35:09\n"
     ]
    }
   ],
   "source": [
    "import time\n",
    "import datetime\n",
    "def date_time(func):\n",
    "    def wrapper(*args):\n",
    "        print(f\"time before execution : {datetime.datetime.now().strftime('%d-%m-%Y %H:%M:%S')}\")\n",
    "        result = func(*args)\n",
    "        print(f\"time after execution : {datetime.datetime.now().strftime('%d-%m-%Y %H:%M:%S')}\")\n",
    "        return result\n",
    "    return wrapper\n",
    "\n",
    "\n",
    "@date_time\n",
    "def func_1():\n",
    "    time.sleep(2)\n",
    "    print(\"Hello, world\")\n",
    "\n",
    "func_1()"
   ]
  },
  {
   "cell_type": "raw",
   "id": "93474414-e8ba-439d-9f7d-0f3f4eb648b9",
   "metadata": {},
   "source": [
    "34.Program to Get Data Items From a List Appearing Odd Number of Times"
   ]
  },
  {
   "cell_type": "code",
   "execution_count": 138,
   "id": "8094000e",
   "metadata": {},
   "outputs": [
    {
     "name": "stdout",
     "output_type": "stream",
     "text": [
      "Data Items Appearing Odd Number of Times : [1, 3, 4, 8, 9]\n"
     ]
    }
   ],
   "source": [
    "l = [1,2,3,2,3,4,6,6,8,9,3]\n",
    "x = []\n",
    "for i in l:\n",
    "    if l.count(i)%2 != 0:\n",
    "        x.append(i)\n",
    "\n",
    "print(\"Data Items Appearing Odd Number of Times :\", list(set(x)))\n",
    "        "
   ]
  },
  {
   "cell_type": "raw",
   "id": "70caf71f-6a2d-42a5-bb41-a83e99f3b0cb",
   "metadata": {},
   "source": [
    "35.What are decorators in Python?"
   ]
  },
  {
   "cell_type": "raw",
   "id": "f6d6603b",
   "metadata": {},
   "source": [
    "Decorators in Python are a way to modify or extend the behavior of a function without changing its source code. A decorator is a special type of function that takes another function as input and returns a modified version of it, usually adding some functionality to the original function. Decorators are applied to a function by using the \"@\" symbol followed by the name of the decorator, placed immediately before the definition of the function being decorated. "
   ]
  },
  {
   "cell_type": "raw",
   "id": "00d3f3e6-8d1a-459c-8f05-fec2d7a72f0b",
   "metadata": {},
   "source": [
    "36. remove items from a list while iterating but without creating a different copy of a list.\n",
    "Remove numbers greater than 50\n",
    "number_list = [10, 20, 30, 40, 50, 60, 70, 80, 90, 100]\n",
    "Expected Output: [10, 20, 30, 40, 50]"
   ]
  },
  {
   "cell_type": "code",
   "execution_count": 185,
   "id": "f31b20a1",
   "metadata": {},
   "outputs": [
    {
     "name": "stdout",
     "output_type": "stream",
     "text": [
      "[10, 20, 30, 40, 50]\n"
     ]
    }
   ],
   "source": [
    "nl = [x for x in number_list if x <=50]\n",
    "print(nl)"
   ]
  },
  {
   "cell_type": "code",
   "execution_count": 192,
   "id": "cab63760",
   "metadata": {},
   "outputs": [
    {
     "name": "stdout",
     "output_type": "stream",
     "text": [
      "[10, 20, 30, 40, 50]\n"
     ]
    }
   ],
   "source": [
    "# 2nd approach\n",
    "for i in range(len(number_list)-1, -1, -1):\n",
    "    if number_list[i] > 50:\n",
    "        number_list.pop(i)\n",
    "\n",
    "print(number_list)"
   ]
  },
  {
   "cell_type": "raw",
   "id": "6a034cd6-9a75-4912-8286-2396360ffa28",
   "metadata": {},
   "source": [
    "37.  Display all duplicate items from a list\n",
    "sample_list = [10, 20, 60, 30, 20, 40, 30, 60, 70, 80]\n",
    "Expected Output: [20, 60, 30]"
   ]
  },
  {
   "cell_type": "code",
   "execution_count": 41,
   "id": "fbcb08cc",
   "metadata": {},
   "outputs": [
    {
     "name": "stdout",
     "output_type": "stream",
     "text": [
      "[20, 60, 30]\n"
     ]
    }
   ],
   "source": [
    "sample_list = [10, 20, 60, 30, 20, 40, 30, 60, 70, 80]\n",
    "output = []\n",
    "\n",
    "for i in range(0, len(sample_list)):\n",
    "    for j in range(i+1, len(sample_list)):\n",
    "        if sample_list[i] == sample_list[j]:\n",
    "            output.append(sample_list[i])\n",
    "print(output)"
   ]
  },
  {
   "cell_type": "code",
   "execution_count": 199,
   "id": "4b574fef",
   "metadata": {},
   "outputs": [
    {
     "name": "stdout",
     "output_type": "stream",
     "text": [
      "[20, 30, 60]\n"
     ]
    }
   ],
   "source": [
    "#2nd approach\n",
    "sample_list = [10, 20, 60, 30, 20, 40, 30, 60, 70, 80]\n",
    "exist = []\n",
    "duplicates = []\n",
    "\n",
    "for i in sample_list:\n",
    "    if i not in exist:\n",
    "        exist.append(i)\n",
    "    else:\n",
    "        duplicates.append(i)\n",
    "print(duplicates)"
   ]
  },
  {
   "cell_type": "raw",
   "id": "03607aeb-291c-41e0-bb35-101d53d1f25f",
   "metadata": {},
   "source": [
    "38. Create an outer function that will accept two strings, x and y. (x= 'Emma' and y = 'Kelly')\n",
    "Create an inner function inside an outer function that will concatenate x and y. At last, an outer function will join the word 'developer' to it."
   ]
  },
  {
   "cell_type": "code",
   "execution_count": 204,
   "id": "b9f4e61a",
   "metadata": {},
   "outputs": [
    {
     "name": "stdout",
     "output_type": "stream",
     "text": [
      "Emma Kelly developer\n"
     ]
    }
   ],
   "source": [
    "def outer(x,y):\n",
    "    \n",
    "    def inner():\n",
    "        #concatenate x and y\n",
    "        return (x + y)\n",
    "    # add word to it\n",
    "    return (x + y) + \" developer\"\n",
    "\n",
    "result = outer(\"Emma \", \"Kelly\")\n",
    "print(result)"
   ]
  },
  {
   "cell_type": "raw",
   "id": "c3238d35-61fa-4d2a-8e92-c393399b1b5b",
   "metadata": {},
   "source": [
    "39. Modify the element of a nested list inside the following list\n",
    "Change the element 35 to 3500\n",
    "list1 = [5, [10, 15, [20, 25, [30, 35], 40], 45], 50]"
   ]
  },
  {
   "cell_type": "code",
   "execution_count": 205,
   "id": "40bdbf46",
   "metadata": {},
   "outputs": [
    {
     "name": "stdout",
     "output_type": "stream",
     "text": [
      "[5, [10, 15, [20, 25, [30, 3500], 40], 45], 50]\n"
     ]
    }
   ],
   "source": [
    "list1 = [5, [10, 15, [20, 25, [30, 35], 40], 45], 50]\n",
    "\n",
    "#modify the element\n",
    "list1[1][2][2][1] = 3500\n",
    "\n",
    "#print result\n",
    "print(list1)"
   ]
  },
  {
   "cell_type": "raw",
   "id": "0106b7da-e95f-46ba-873a-e641d7199be7",
   "metadata": {},
   "source": [
    "40.  Access the nested key increment from the following dictionary\n",
    "Access 12\n",
    "emp_dict = {\n",
    "    \"company\": {\n",
    "        \"employee\": {\n",
    "            \"name\": \"Jess\",\n",
    "            \"payable\": {\n",
    "                \"salary\": 9000,\n",
    "                \"increment\": 12\n",
    "            }\n",
    "        }\n",
    "    }\n",
    "}"
   ]
  },
  {
   "cell_type": "code",
   "execution_count": 273,
   "id": "8781026a",
   "metadata": {},
   "outputs": [
    {
     "data": {
      "text/plain": [
       "12"
      ]
     },
     "execution_count": 273,
     "metadata": {},
     "output_type": "execute_result"
    }
   ],
   "source": [
    "emp_dict = {\n",
    "    \"company\": {\n",
    "        \"employee\": {\n",
    "            \"name\": \"Jess\",\n",
    "            \"payable\": {\n",
    "                \"salary\": 9000,\n",
    "                \"increment\": 12\n",
    "            }\n",
    "        }\n",
    "    }\n",
    "}\n",
    "\n",
    "emp_dict['company']['employee']['payable']['increment']"
   ]
  },
  {
   "cell_type": "raw",
   "id": "a36e12a4-baf9-4c0b-90e6-c16fd60b02ba",
   "metadata": {},
   "source": [
    "41. Print the sum of the current number and the previous number\n",
    "Write a program to iterate the first 10 numbers and in each iteration, print the sum of the current and previous number.\n",
    "Printing current and previous number sum in a range(10)\n",
    "Current Number 0 Previous Number  0  Sum:  0\n",
    "Current Number 1 Previous Number  0  Sum:  1\n",
    "Current Number 2 Previous Number  1  Sum:  3\n",
    "Current Number 3 Previous Number  2  Sum:  5\n",
    "Current Number 4 Previous Number  3  Sum:  7\n",
    "Current Number 5 Previous Number  4  Sum:  9\n",
    "Current Number 6 Previous Number  5  Sum:  11\n",
    "Current Number 7 Previous Number  6  Sum:  13\n",
    "Current Number 8 Previous Number  7  Sum:  15\n",
    "Current Number 9 Previous Number  8  Sum:  17"
   ]
  },
  {
   "cell_type": "code",
   "execution_count": 207,
   "id": "81f95576",
   "metadata": {},
   "outputs": [
    {
     "name": "stdout",
     "output_type": "stream",
     "text": [
      "Current Number : 0 Previous Number : 0 Sum : 0\n",
      "Current Number : 1 Previous Number : 0 Sum : 1\n",
      "Current Number : 2 Previous Number : 1 Sum : 3\n",
      "Current Number : 3 Previous Number : 2 Sum : 5\n",
      "Current Number : 4 Previous Number : 3 Sum : 7\n",
      "Current Number : 5 Previous Number : 4 Sum : 9\n",
      "Current Number : 6 Previous Number : 5 Sum : 11\n",
      "Current Number : 7 Previous Number : 6 Sum : 13\n",
      "Current Number : 8 Previous Number : 7 Sum : 15\n",
      "Current Number : 9 Previous Number : 8 Sum : 17\n"
     ]
    }
   ],
   "source": [
    "pn = 0\n",
    "for i in range(10):\n",
    "    cn = i\n",
    "    if i >= 1:\n",
    "        pn = (i-1)\n",
    "\n",
    "    print(f\"Current Number : {cn} Previous Number : {pn} Sum : {(cn+pn)}\")\n"
   ]
  },
  {
   "cell_type": "raw",
   "id": "d2b5f72f",
   "metadata": {},
   "source": [
    "# 42. Print characters from a string that are present at an even index number\n",
    "Write a program to accept a string from the user and display characters that are present at an even index number.\n",
    "\n",
    "For example, str = \"ineuron\" so you should display ‘i’, ‘e’, ‘r’, ‘n’."
   ]
  },
  {
   "cell_type": "code",
   "execution_count": 208,
   "id": "60b2e20f",
   "metadata": {},
   "outputs": [
    {
     "name": "stdout",
     "output_type": "stream",
     "text": [
      "Enter any word : welcome\n",
      "w, l, o, e\n"
     ]
    }
   ],
   "source": [
    "user_input = input(\"Enter any word : \")\n",
    "l = []\n",
    "\n",
    "for i in range(len(user_input)):\n",
    "    if i%2 == 0:\n",
    "        l.append(user_input[i])\n",
    "        output = ', '.join(l)\n",
    "        \n",
    "print(output)\n"
   ]
  },
  {
   "cell_type": "raw",
   "id": "19f5f95f-8e4e-48c8-8639-247f8f058efa",
   "metadata": {},
   "source": [
    "43. Print multiplication table form 1 to 10\n",
    "1  2 3 4 5 6 7 8 9 10 \t\t\n",
    "2  4 6 8 10 12 14 16 18 20 \t\t\n",
    "3  6 9 12 15 18 21 24 27 30 \t\t\n",
    "4  8 12 16 20 24 28 32 36 40 \t\t\n",
    "5  10 15 20 25 30 35 40 45 50 \t\t\n",
    "6  12 18 24 30 36 42 48 54 60 \t\t\n",
    "7  14 21 28 35 42 49 56 63 70 \t\t\n",
    "8  16 24 32 40 48 56 64 72 80 \t\t\n",
    "9  18 27 36 45 54 63 72 81 90 \t\t\n",
    "10 20 30 40 50 60 70 80 90 100 "
   ]
  },
  {
   "cell_type": "code",
   "execution_count": 265,
   "id": "7bd6bde1",
   "metadata": {},
   "outputs": [
    {
     "name": "stdout",
     "output_type": "stream",
     "text": [
      "1 2 3 4 5 6 7 8 9 10\n",
      "2 4 6 8 10 12 14 16 18 20\n",
      "3 6 9 12 15 18 21 24 27 30\n",
      "4 8 12 16 20 24 28 32 36 40\n",
      "5 10 15 20 25 30 35 40 45 50\n",
      "6 12 18 24 30 36 42 48 54 60\n",
      "7 14 21 28 35 42 49 56 63 70\n",
      "8 16 24 32 40 48 56 64 72 80\n",
      "9 18 27 36 45 54 63 72 81 90\n",
      "10 20 30 40 50 60 70 80 90 100\n"
     ]
    }
   ],
   "source": [
    "for i in range(1, 11):\n",
    "    print(i,(i*2),(i*3),(i*4),(i*5),(i*6),(i*7),(i*8),(i*9),(i*10))"
   ]
  },
  {
   "cell_type": "code",
   "execution_count": 234,
   "id": "8419f449",
   "metadata": {},
   "outputs": [
    {
     "name": "stdout",
     "output_type": "stream",
     "text": [
      "1 2 3 4 5 6 7 8 9 10 \t\n",
      "2 4 6 8 10 12 14 16 18 20 \t\n",
      "3 6 9 12 15 18 21 24 27 30 \t\n",
      "4 8 12 16 20 24 28 32 36 40 \t\n",
      "5 10 15 20 25 30 35 40 45 50 \t\n",
      "6 12 18 24 30 36 42 48 54 60 \t\n",
      "7 14 21 28 35 42 49 56 63 70 \t\n",
      "8 16 24 32 40 48 56 64 72 80 \t\n",
      "9 18 27 36 45 54 63 72 81 90 \t\n",
      "10 20 30 40 50 60 70 80 90 100 \t\n"
     ]
    }
   ],
   "source": [
    "for i in range(1,11):\n",
    "    for j in range(1,11):\n",
    "        print(i*j, end = \" \")\n",
    "    #insert tab character\n",
    "    print(\"\\t\")"
   ]
  },
  {
   "cell_type": "raw",
   "id": "07f9b814-fc05-4a97-8a50-b762ab2522e6",
   "metadata": {},
   "source": [
    "44. Remove duplicates from a list and create a tuple and find the minimum and maximum number\n",
    "sample_list = [87, 45, 41, 65, 94, 41, 99, 94]\n",
    "\n",
    "Expected Outcome:\n",
    "\n",
    "unique items [87, 45, 41, 65, 94, 99]\n",
    "tuple (87, 45, 41, 65, 94, 99)\n",
    "min: 41\n",
    "max: 99"
   ]
  },
  {
   "cell_type": "code",
   "execution_count": 219,
   "id": "b3594b0c",
   "metadata": {},
   "outputs": [
    {
     "name": "stdout",
     "output_type": "stream",
     "text": [
      "unique items : [87, 45, 41, 65, 94, 99]\n",
      "tuple : (87, 45, 41, 65, 94, 99)\n",
      "min : 41\n",
      "max : 99\n"
     ]
    }
   ],
   "source": [
    "sample_list = [87, 45, 41, 65, 94, 41, 99, 94]\n",
    "unique_items = []\n",
    "\n",
    "for i in sample_list:\n",
    "    if i not in unique_items:\n",
    "        unique_items.append(i)\n",
    "        tup = tuple(unique_items)\n",
    "\n",
    "print(f\"unique items : {unique_items}\")\n",
    "print(f\"tuple : {tup}\")\n",
    "print(f\"min : {min(tup)}\")\n",
    "print(f\"max : {max(tup)}\")\n"
   ]
  },
  {
   "cell_type": "raw",
   "id": "f4d4b1a2-7c19-43c4-922c-837b6c40f5fb",
   "metadata": {},
   "source": [
    "45. Write a Python program to create a lambda function that adds 15 to a given number passed in as an argument,\n",
    "also create a lambda function that multiplies argument x with argument y and print the result."
   ]
  },
  {
   "cell_type": "code",
   "execution_count": 236,
   "id": "b3792341",
   "metadata": {},
   "outputs": [
    {
     "name": "stdout",
     "output_type": "stream",
     "text": [
      "20.36\n",
      "63\n"
     ]
    }
   ],
   "source": [
    "a = lambda a : (a + 15)\n",
    "b = lambda x, y : x*y\n",
    "print(a(5.36))\n",
    "print(b(7 ,9))"
   ]
  },
  {
   "cell_type": "raw",
   "id": "58df2f9a-6310-4e59-a5fe-6658ff7898e1",
   "metadata": {},
   "source": [
    "46. Write a Python program to sort a list of tuples using Lambda."
   ]
  },
  {
   "cell_type": "code",
   "execution_count": 254,
   "id": "6986bde0",
   "metadata": {},
   "outputs": [
    {
     "name": "stdout",
     "output_type": "stream",
     "text": [
      "Original list of tuples :\n",
      "[('Maths', 9), ('English', 8), ('Science', 3), ('Physics', 7)]\n",
      "\n",
      "Sort list of tuples :\n",
      "[('English', 8), ('Maths', 9), ('Physics', 7), ('Science', 3)]\n"
     ]
    }
   ],
   "source": [
    "l = [(\"Maths\",9), (\"English\",8), (\"Science\",3), (\"Physics\",7)]\n",
    "print(\"Original list of tuples :\")\n",
    "print(l)\n",
    "sort = lambda l : sorted(l)\n",
    "print(\"\\nSort list of tuples :\")\n",
    "print(sort(l))\n"
   ]
  },
  {
   "cell_type": "raw",
   "id": "745bbb70-f71c-4042-a99a-f42bccef267e",
   "metadata": {},
   "source": [
    "47. Write a Python program to extract year, month, date and time using Lambda."
   ]
  },
  {
   "cell_type": "code",
   "execution_count": 321,
   "id": "96cd2467",
   "metadata": {},
   "outputs": [
    {
     "name": "stdout",
     "output_type": "stream",
     "text": [
      " (Year, Month, Date and Time) is : ('2023', 'Feb', ' 4', '18:38:33')\n"
     ]
    }
   ],
   "source": [
    "import time\n",
    "i = time.ctime()\n",
    "\n",
    "t = lambda i : (i[20:24], i[4:7], i[8:10], i[11:19])\n",
    "print(f\" (Year, Month, Date and Time) is : {t(i)}\")"
   ]
  },
  {
   "cell_type": "code",
   "execution_count": 350,
   "id": "164659ea",
   "metadata": {},
   "outputs": [
    {
     "name": "stdout",
     "output_type": "stream",
     "text": [
      "2023-02-04 18:55:52.738455\n",
      "Year :  2023\n",
      "Month :  2\n",
      "Date :  4\n",
      "Time  18:55:52.738455\n"
     ]
    }
   ],
   "source": [
    "import datetime\n",
    "\n",
    "current_dt = datetime.datetime.now()\n",
    "print(current_dt)\n",
    "\n",
    "year = lambda a: a.year\n",
    "month = lambda a : a.month\n",
    "date = lambda a : a.day\n",
    "time = lambda a : a.time()\n",
    "    \n",
    "print(\"Year : \", year(current_dt))\n",
    "print(\"Month : \", month(current_dt))\n",
    "print(\"Date : \", date(current_dt))\n",
    "print(\"Time \" ,time(current_dt))"
   ]
  },
  {
   "cell_type": "raw",
   "id": "101fba13",
   "metadata": {},
   "source": [
    "48. Write a Python program to count the even, odd numbers in a given array of integers using Lambda."
   ]
  },
  {
   "cell_type": "code",
   "execution_count": 320,
   "id": "7d9dbf16",
   "metadata": {},
   "outputs": [
    {
     "name": "stdout",
     "output_type": "stream",
     "text": [
      "Given List : [1, 2, 6, 4, 9, 3, 7, 56, 43]\n",
      "Total number of Odd numbers in given list : 5\n",
      "Total number of Even numbers in given list : 4\n"
     ]
    }
   ],
   "source": [
    "l = [1,2,6,4,9,3,7,56,43]\n",
    "print(f\"Given List : {l}\")\n",
    "\n",
    "func1 = len(list(filter(lambda a :(a%2==0),l)))\n",
    "func2 = len(list(filter(lambda a :(a%2!=0),l)))\n",
    "\n",
    "print(f\"Total number of Odd numbers in given list : {func2}\")\n",
    "print(f\"Total number of Even numbers in given list : {func1}\")"
   ]
  },
  {
   "cell_type": "raw",
   "id": "dbd65ee9-2f83-4286-a7b3-52f398ab8527",
   "metadata": {},
   "source": [
    "49. Write a Python program to convert all the characters in uppercase and lowercase and eliminate duplicate letters from a given sequence. Use map() function."
   ]
  },
  {
   "cell_type": "code",
   "execution_count": 276,
   "id": "00e51853",
   "metadata": {},
   "outputs": [
    {
     "name": "stdout",
     "output_type": "stream",
     "text": [
      "{('O', 'o'), ('U', 'u'), ('C', 'c'), ('B', 'b'), ('A', 'a'), ('T', 't')}\n"
     ]
    }
   ],
   "source": [
    "def fun1(x):\n",
    "    return x.upper(), x.lower()\n",
    "\n",
    "characters = ['a','B','O', 'c', 'a', 'O', 'U', 't', 'c']\n",
    "result = list(map(fun1, characters))\n",
    "print(set(result))\n"
   ]
  },
  {
   "cell_type": "raw",
   "id": "78c63beb-b43b-48ad-bb20-31f403af2f10",
   "metadata": {},
   "source": [
    "50.  Write a Python program to square the elements of a list using map() function."
   ]
  },
  {
   "cell_type": "code",
   "execution_count": 256,
   "id": "132d59c8",
   "metadata": {},
   "outputs": [
    {
     "data": {
      "text/plain": [
       "[4, 9, 16, 25, 36]"
      ]
     },
     "execution_count": 256,
     "metadata": {},
     "output_type": "execute_result"
    }
   ],
   "source": [
    "l = [2,3,4,5,6]\n",
    "sq_no = lambda a : a**2\n",
    "list(map(sq_no, l))"
   ]
  },
  {
   "cell_type": "markdown",
   "id": "b683fd8b",
   "metadata": {},
   "source": [
    "______________"
   ]
  },
  {
   "cell_type": "markdown",
   "id": "b41d8be4",
   "metadata": {},
   "source": [
    "____________"
   ]
  }
 ],
 "metadata": {
  "kernelspec": {
   "display_name": "Python 3 (ipykernel)",
   "language": "python",
   "name": "python3"
  },
  "language_info": {
   "codemirror_mode": {
    "name": "ipython",
    "version": 3
   },
   "file_extension": ".py",
   "mimetype": "text/x-python",
   "name": "python",
   "nbconvert_exporter": "python",
   "pygments_lexer": "ipython3",
   "version": "3.9.12"
  }
 },
 "nbformat": 4,
 "nbformat_minor": 5
}
